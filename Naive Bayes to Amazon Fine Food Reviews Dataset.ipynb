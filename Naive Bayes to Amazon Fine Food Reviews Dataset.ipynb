{
 "cells": [
  {
   "cell_type": "markdown",
   "metadata": {},
   "source": [
    "# <center> Naive Bayes to Amazon Fine Food Reviews Dataset</center>\n",
    "___"
   ]
  },
  {
   "cell_type": "markdown",
   "metadata": {},
   "source": [
    "###  <b>Exercise</b> :\n",
    "\n",
    "1.\tDownload Amazon Fine Food Reviews dataset from Kaggle. You may have to create a Kaggle account to download data. (https://www.kaggle.com/snap/amazon-fine-food-reviews)\n",
    "2.\tSplit data into train and test using time based slicing as 70%  train & 30% test.\n",
    "3.\tPerform featurization, BoW, tf-idf.\n",
    "4.\tApply Naive Bayes on train data.\n",
    "5.\tPerform cross validation to find optimal alpha (Laplace Smoothing).\n",
    "6.\tFind important features for +ve and –ve class labels.\n",
    "7.\tTo test the performance of the model, calculate accuracy,precision,recall,F1-score,confusion matrix(TPR,TNR,FPR,FNR)\n",
    "8.\tWrite your observations in English as crisply and unambiguously as possible. Always quantify your results.\n"
   ]
  },
  {
   "cell_type": "markdown",
   "metadata": {},
   "source": [
    "### Information regarding data set :\n",
    "\n",
    "1. <b>Title</b>: Amazon Fine Food Reviews Data\n",
    "\n",
    "2. <b>Sources</b>: Stanford Network Analysis Project(SNAP)\n",
    "\n",
    "3. <b>Relevant Information</b>: This dataset consists of reviews of fine foods from amazon. The data span a period of more than 10 years, including all ~568,454 reviews up to October 2012(Oct 1999 - Oct 2012). Reviews include product and user information, ratings, and a plain text review.\n",
    "4.  <b>Attribute Information</b>:   \n",
    "    <b>ProductId </b>- unique identifier for the product <br/>\n",
    "    <b>UserId </b>- unqiue identifier for the user <br/>\n",
    "    <b>ProfileName </b>- name of the user <br/>\n",
    "    <b>HelpfulnessNumerator </b>- number of users who found the review helpful <br/>\n",
    "    <b>HelpfulnessDenominator </b>- number of users who indicated whether they found the review helpful or not <br/>\n",
    "    <b>Score </b>- rating between 1 and 5.( rating of 4 or 5 could be cosnidered a positive review. A review of 1 or 2 could be considered negative. A review of 3 is nuetral and ignored) <br/>\n",
    "    <b>Time </b>- timestamp for the review <br/> \n",
    "    <b>Summary </b>- brief summary of the review <br/>\n",
    "    <b>Text </b>- text of the review <br/>"
   ]
  },
  {
   "cell_type": "markdown",
   "metadata": {},
   "source": [
    "---\n",
    "\n",
    "### <b>Objective :</b> \n",
    "> <span style=\"color:blue\">It is a 2-class classification task, where we have to analyze, transform(BoW,TF-IDF) and calculate probabilistic class label values using naive bayes, which evaluates whether a review is positive or negative.<span>\n",
    "\n",
    "---\n"
   ]
  },
  {
   "cell_type": "code",
   "execution_count": 12,
   "metadata": {
    "scrolled": false
   },
   "outputs": [],
   "source": [
    "import warnings\n",
    "warnings.filterwarnings(\"ignore\", category=UserWarning,module='gensim')\n",
    "warnings.filterwarnings(\"ignore\", category=UserWarning)\n",
    "\n",
    "from sklearn.exceptions import DataConversionWarning\n",
    "warnings.filterwarnings(action='ignore', category=DataConversionWarning)\n",
    "\n",
    "with warnings.catch_warnings():\n",
    "    warnings.simplefilter(\"ignore\")\n",
    "\n",
    "import traceback\n",
    "import sqlite3\n",
    "import itertools\n",
    "from nltk import FreqDist\n",
    "import datetime as dt\n",
    "import pandas as pd\n",
    "import numpy as np\n",
    "import matplotlib.pyplot as plt\n",
    "import seaborn as sn\n",
    "from sklearn import preprocessing \n",
    "from sklearn.feature_extraction.text import CountVectorizer\n",
    "from sklearn.feature_extraction.text import TfidfVectorizer\n",
    "from sklearn.model_selection import cross_val_score\n",
    "from sklearn.model_selection import cross_validate\n",
    "from sklearn.model_selection import train_test_split\n",
    "from prettytable import PrettyTable\n",
    "from sklearn.naive_bayes import MultinomialNB\n",
    "from imblearn.over_sampling import SMOTE\n",
    "from sklearn.metrics import precision_score, recall_score, f1_score, roc_auc_score, accuracy_score,confusion_matrix,classification_report\n",
    "from sklearn.metrics import make_scorer"
   ]
  },
  {
   "cell_type": "markdown",
   "metadata": {},
   "source": [
    "### (1) Load dataset :"
   ]
  },
  {
   "cell_type": "code",
   "execution_count": 13,
   "metadata": {
    "scrolled": false
   },
   "outputs": [
    {
     "name": "stdout",
     "output_type": "stream",
     "text": [
      "Dataset Shape : \n",
      " (351237, 11)\n",
      "\n",
      "Column Names: \n",
      " Index(['Id', 'ProductId', 'UserId', 'ProfileName', 'HelpfulnessNumerator',\n",
      "       'HelpfulnessDenominator', 'Score', 'Time', 'Summary', 'Text',\n",
      "       'CleanedText'],\n",
      "      dtype='object')\n",
      "\n",
      "Target Class label : \n",
      "positive    297807\n",
      "negative     53430\n",
      "Name: Score, dtype: int64\n",
      "\n"
     ]
    },
    {
     "data": {
      "image/png": "[encoded data removed]",
      "text/plain": [
       "<Figure size 360x360 with 1 Axes>"
      ]
     },
     "metadata": {
      "needs_background": "light"
     },
     "output_type": "display_data"
    }
   ],
   "source": [
    "# Load 'finalDataSet.sqlite' in panda's daraframe.\n",
    "# This dataset is already gone through data deduplication and text preprocessing, so it is approx ~364K\n",
    "\n",
    "# Create connection object to load sqlite dataset\n",
    "connection = sqlite3.connect('finalDataSet.sqlite')\n",
    "\n",
    "# Load data into pandas dataframe.\n",
    "reviews_df = pd.read_sql_query(\"\"\" SELECT * FROM Reviews \"\"\",connection)\n",
    "\n",
    "# Drop index column \n",
    "reviews_df = reviews_df.drop(columns=['index'])\n",
    "\n",
    "# Convert timestamp to datetime.\n",
    "reviews_df['Time'] = reviews_df[['Time']].applymap(lambda x: dt.datetime.fromtimestamp(x))\n",
    "\n",
    "# Sort the data on the basis of time.\n",
    "reviews_df = reviews_df.sort_values(by=['Time'])\n",
    "\n",
    "print(\"Dataset Shape : \\n\",reviews_df.shape)\n",
    "print(\"\\nColumn Names: \\n\",reviews_df.columns)\n",
    "print(\"\\nTarget Class label : \")\n",
    "print(reviews_df['Score'].value_counts())\n",
    "print()\n",
    "\n",
    "# Plot review counts\n",
    "plot_count_values(reviews_df)"
   ]
  },
  {
   "cell_type": "code",
   "execution_count": 14,
   "metadata": {},
   "outputs": [],
   "source": [
    "###--- All utility variables and functions ---###\n",
    "\n",
    "# List of values for hyperparameter\n",
    "range_parameter_values = [0.00001,0.0001,0.001,0.01,1,10,100]\n",
    "\n",
    "# Training Error\n",
    "train_error = []\n",
    "\n",
    "# Test Error\n",
    "test_error = []\n",
    "\n",
    "# Test Error\n",
    "list_alpha = []\n",
    "\n",
    "# Target Classes\n",
    "target_classes = [\"negative\", \"positive\"]\n",
    "\n",
    "scoring_parameter = \"Accuracy, Precision, Recall\"\n",
    "\n",
    "# http://scikit-learn.org/stable/modules/model_evaluation.html#scoring-parameter \n",
    "# for list allowed scoring values\n",
    "scoring = {'acc': 'accuracy',\n",
    "           'prec_macro': 'precision_macro',\n",
    "           'rec_micro': 'recall_macro'}\n",
    "\n",
    "def get_most_common_words(classifier,vectorizer,top_n=None):\n",
    "    ''' Get top n values in row and return them with their corresponding feature names.'''\n",
    "    print()\n",
    "    class_labels = classifier.classes_\n",
    "    feature_names =vectorizer.get_feature_names()\n",
    "    top_negative = sorted(zip(classifier.feature_log_prob_[0], feature_names),reverse=True)[:top_n]\n",
    "    top_positive = sorted(zip(classifier.feature_log_prob_[1], feature_names),reverse=True)[:top_n]\n",
    "    \n",
    "    complete_list = list()\n",
    "    for index in range(0,top_n):\n",
    "        holder = []\n",
    "        n_value,n_word = top_negative[index]\n",
    "        p_value,p_word = top_positive[index]\n",
    "        holder.append(n_word)\n",
    "        holder.append(n_value)\n",
    "        holder.append(p_word)  \n",
    "        holder.append(p_value)              \n",
    "        complete_list.append(holder)       \n",
    "    \n",
    "    df = pd.DataFrame(complete_list,columns=['feature_negative', 'value_negative','feature_positive', 'value_positive'])  \n",
    "    \n",
    "    ptable = PrettyTable()\n",
    "    ptable.title = \"Feature Importance - {0} Most Common Features\".format(top_n)\n",
    "    ptable.field_names = ['Feature (-ve)', 'Empirical Log Probability (-ve)','Feature (+ve)', 'Empirical Log Probability (+ve)']\n",
    "    \n",
    "    for row in df.itertuples():\n",
    "        ptable.add_row([row.feature_negative,row.value_negative,row.feature_positive,row.value_positive])\n",
    "    \n",
    "    print(ptable)\n",
    "    print()\n",
    "        \n",
    "\n",
    "def apply_naive_bayes(optimal_alpha,training_features_matrix,training_target):\n",
    "    '''\n",
    "    This function performs naive bayes on the given data.\n",
    "    '''   \n",
    "    classifier = MultinomialNB(alpha=optimal_alpha)\n",
    "    classifier.fit(training_features_matrix,training_target)  \n",
    "    return classifier\n",
    "    \n",
    "\n",
    "def get_optimal_hyperparameter(x_train, y_train):\n",
    "    '''\n",
    "    This function, plots error and hyperparameter values and, then returns optimal hyperparameter value.    \n",
    "    '''\n",
    "    scores = dict()\n",
    "    \n",
    "    # Pretty table instance\n",
    "    ptable = PrettyTable()\n",
    "    ptable.title = \"Hyperparamter versus Scoring Mean\"\n",
    "    ptable.field_names = [\"Alpha Value\", \"Cross Validation Scoring Mean\",\"Scoring Parameter Used\"]\n",
    "    \n",
    "    # Perform 10-fold cross validation\n",
    "    for a in range_parameter_values:\n",
    "        classifier = MultinomialNB(alpha=a)        \n",
    "        result = cross_val_score(classifier, x_train, y_train, cv=10, scoring= my_scorer)\n",
    "        scores[a] = result.mean()\n",
    "        ptable.add_row([a, scores[a], scoring_parameter])        \n",
    "    \n",
    "    # Print pretty table values  \n",
    "    print(ptable)\n",
    "    \n",
    "    # Plot the value of alpha's(x-axis) and crosss validation scoring(accuracy,precision,recall)(y-axis)\n",
    "    plt.plot(scores.keys(),scores.values())\n",
    "    plt.xlabel(\"Value of alpha for Naive Bayes\")\n",
    "    plt.ylabel(\"Cross validated scoring - accuracy,precision,recall\")\n",
    "    plt.show()\n",
    "    \n",
    "    optimal_alpha = max(scores, key=scores.get)\n",
    "    list_alpha.append(optimal_alpha)\n",
    "    print(\"\\nOptimal value of hyperparameter alpha is \",optimal_alpha)\n",
    "        \n",
    "    return optimal_alpha\n",
    "\n",
    "def getScores(estimator, x, y):\n",
    "    yPred = estimator.predict(x)\n",
    "    return (accuracy_score(y, yPred), \n",
    "            precision_score(y, yPred, pos_label=3, average='macro'), \n",
    "            recall_score(y, yPred, pos_label=3, average='macro'))\n",
    "\n",
    "def my_scorer(estimator, x, y):\n",
    "    a, p, r = getScores(estimator, x, y)    \n",
    "    return a+p+r\n",
    "\n",
    "def generate_report(optimal_alpha,testing_target,predicted_testing_target):\n",
    "    '''\n",
    "    This funtion generate reports like recall,precision,f1-score,confusion matrix.\n",
    "    '''\n",
    "    print()\n",
    "    # Pretty table instance\n",
    "    ptable = PrettyTable()\n",
    "    ptable.title = \"Classification Report with alpha = {0}\".format(optimal_alpha)\n",
    "    ptable.field_names = [\"Class Lable/Averages\",\"Precision\", \"Recall\",\"F1-Score\",\"Support\"]\n",
    "    report_dict = classification_report(testing_target, predicted_testing_target,output_dict = True)\n",
    "    for key , value in report_dict.items():        \n",
    "        inner_dict = value        \n",
    "        ptable.add_row([key,inner_dict['precision'],inner_dict['recall'],inner_dict['f1-score'],inner_dict['support']])\n",
    "    \n",
    "    # Print pretty table values\n",
    "    print(ptable)\n",
    "        \n",
    "    print()\n",
    "    print(\"\\nAccuracy Score: \",accuracy_score(testing_target, predicted_testing_target))\n",
    "    test_error.append(1-accuracy_score(testing_target, predicted_testing_target))\n",
    "    print()\n",
    "    cnf_mat = confusion_matrix(testing_target, predicted_testing_target)\n",
    "    plt.figure()\n",
    "    plot_confusion_matrix(cnf_mat, classes=target_classes,title='Confusion Matrix')\n",
    "    TN = cnf_mat[0,0]       \n",
    "    FP = cnf_mat[0,1]  \n",
    "    FN = cnf_mat[1,0]\n",
    "    TP = cnf_mat[1,1]\n",
    "    \n",
    "\n",
    "    # Sensitivity, hit rate, recall, or true positive rate\n",
    "    TPR = TP/(TP+FN)\n",
    "    \n",
    "    # Specificity or true negative rate\n",
    "    TNR = TN/(TN+FP)  \n",
    "    \n",
    "    # Fall out or false positive rate\n",
    "    FPR = FP/(FP+TN)\n",
    "    \n",
    "    # False negative rate\n",
    "    FNR = FN/(TP+FN)\n",
    "    \n",
    "    # Overall accuracy\n",
    "    ACC = (TP+TN)/(TP+FP+FN+TN)\n",
    "    \n",
    "    print()\n",
    "    # Pretty table instance\n",
    "    ptable = PrettyTable()\n",
    "    ptable.title = \"Confusion Matrix Report\"\n",
    "    ptable.field_names = ['Term','Value']\n",
    "    ptable.add_row([\"TP (True Positive)\",TP])\n",
    "    ptable.add_row([\"TN (True Negative)\",TN])\n",
    "    ptable.add_row([\"FP (False Positive)\",FP])\n",
    "    ptable.add_row([\"FN (False Negative)\",FN])\n",
    "    ptable.add_row([\"TPR (True Positive Rate)= TP/(TP+FN))\",TPR])\n",
    "    ptable.add_row([\"TNR (True Negative Rate)= TN/(TN+FP))\",TNR])\n",
    "    ptable.add_row([\"FPR (False Positive Rate)= FP/(FP+TN))\",FPR])\n",
    "    ptable.add_row([\"FNR (False Negative Rate)= FN/(TP+FN))\",FNR])\n",
    "    ptable.add_row([\"ACC (Accuracy)= (TP+TN)/(TP+FP+FN+TN))\",ACC])\n",
    "    \n",
    "    # Print pretty table values\n",
    "    print(ptable) \n",
    "    \n",
    "    \n",
    "       \n",
    "def plot_count_values(reviews_df):   \n",
    "    sn.catplot(x =\"Score\",kind='count',data=reviews_df,height=5)\n",
    "    plt.title(\"Score Count\", fontsize=18)\n",
    "    plt.show()\n",
    "\n",
    "def plot_confusion_matrix(cm, classes,\n",
    "                          normalize=False,\n",
    "                          title='Confusion matrix',\n",
    "                          cmap=plt.cm.Blues):\n",
    "    \"\"\"\n",
    "    This function prints and plots the confusion matrix.\n",
    "    Normalization can be applied by setting `normalize=True`.\n",
    "    \"\"\"\n",
    "\n",
    "    plt.imshow(cm, interpolation='nearest', cmap=cmap)\n",
    "    plt.title(title)\n",
    "    plt.colorbar()\n",
    "    tick_marks = np.arange(len(classes))\n",
    "    plt.xticks(tick_marks, classes, rotation=45)\n",
    "    plt.yticks(tick_marks, classes)\n",
    "\n",
    "    fmt = '.2f' if normalize else 'd'\n",
    "    thresh = cm.max() / 2.\n",
    "    for i, j in itertools.product(range(cm.shape[0]), range(cm.shape[1])):\n",
    "        plt.text(j, i, format(cm[i, j], fmt),\n",
    "                 horizontalalignment=\"center\",\n",
    "                 color=\"white\" if cm[i, j] > thresh else \"black\")\n",
    "\n",
    "    plt.ylabel('True label')\n",
    "    plt.xlabel('Predicted label')\n",
    "    plt.tight_layout()\n",
    "    plt.show()\n",
    "    \n",
    "def conclude():\n",
    "ptable=PrettyTable()\n",
    "ptable.title = \"***Conclusion***\"\n",
    "ptable.field_names=[\"Dataset\",\"Model\",\"Hyperparameter\",\"Train Error\",\"Test Error\"]\n",
    "ptable.add_row([\"Imbalanced\",\"BoW --> Multinomial NB\",list_alpha[0],str(round(train_error[0], 2)*100)+\"%\",str(round(test_error[0], 2)*100)+\"%\"])\n",
    "ptable.add_row([\"Balanced\",\"BoW --> SMOTE --> Multinomial NB\",list_alpha[1],str(round(train_error[1], 2)*100)+\"%\",str(round(test_error[1], 2)*100)+\"%\"])\n",
    "ptable.add_row([\"Imbalanced\",\"TF-IDF --> Multinomial NB\",list_alpha[2],str(round(train_error[2], 2)*100)+\"%\",str(round(test_error[2], 2)*100)+\"%\"])\n",
    "ptable.add_row([\"Balanced\",\"TF-IDF --> SMOTE --> Multinomial NB\",list_alpha[3],str(round(train_error[3], 2)*100)+\"%\",str(round(test_error[3], 2)*100)+\"%\"])\n",
    "print(ptable)\n",
    "    \n",
    "\n",
    "def run_naive_bayes(features,target,testing_features,testing_target,vectorizer):    \n",
    "\n",
    "    # Find optimal alpha\n",
    "    optimal_alpha = get_optimal_hyperparameter(features,target)\n",
    "\n",
    "    # Perform naive bayes\n",
    "    classifier = apply_naive_bayes(optimal_alpha,features,target)\n",
    "        \n",
    "    # Make class predictions for testing_features\n",
    "    # Also make class predictions for training_features(training error)\n",
    "    predicted_testing_target = classifier.predict(testing_features)\n",
    "    predicted_target = classifier.predict(features)\n",
    "    train_error.append(1 - accuracy_score(target, predicted_target))       \n",
    "        \n",
    "    # Generate report\n",
    "    generate_report(optimal_alpha,testing_target,predicted_testing_target)\n",
    "    \n",
    "    # Feature Importance    \n",
    "    get_most_common_words(classifier,vectorizer,25) \n"
   ]
  },
  {
   "cell_type": "markdown",
   "metadata": {},
   "source": [
    "### (2) Convert review text to vector representation and perform Naive Bayes on the corresponding vector :\n",
    "#### (2.1) Bag of Words (BoW) :"
   ]
  },
  {
   "cell_type": "code",
   "execution_count": 15,
   "metadata": {
    "scrolled": false
   },
   "outputs": [
    {
     "name": "stdout",
     "output_type": "stream",
     "text": [
      "\n",
      "Features : (sample of 50 features for demo purpose) \n",
      "\n",
      "['aa', 'aaa', 'aaaa', 'aaaaaaaaaaaaaaaaaaaaaaaaaaaaaaaaaaaaaaaaaaaa', 'aaaaaaaaaaaaaaaaaaaargh', 'aaaaaaaaagghh', 'aaaaaaahhhhhh', 'aaaaaaarrrrrggghhh', 'aaaaaahhh', 'aaaaaahhhhhyaaaaaa', 'aaaaaahhhhten', 'aaaaaand', 'aaaaaawwwwwwwwww', 'aaaaah', 'aaaaahhhhhhhhhhhhhhhh', 'aaaaawsom', 'aaaah', 'aaaahhhhhh', 'aaaand', 'aaaarrrrghh', 'aaagh', 'aaah', 'aaahhh', 'aaahhhhhh', 'aabsolut', 'aachen', 'aacur', 'aad', 'aadp', 'aadult', 'aaf', 'aafco', 'aafter', 'aah', 'aahh', 'aalmost', 'aamazon', 'aamzon', 'aana', 'aand', 'aani', 'aap', 'aar', 'aardvark', 'aarp', 'aarrgghhhh', 'aarthur', 'aauc', 'ab', 'aback']\n",
      "\n",
      "the type of count vectorizer  <class 'scipy.sparse.csr.csr_matrix'>\n",
      "the shape of BOW vectorizer  (245865, 74398)\n",
      "the number of unique words  74398\n",
      "Wall time: 15.2 s\n"
     ]
    }
   ],
   "source": [
    "%%time\n",
    "\n",
    "# Split data into 70% training and 30% testing.\n",
    "training_features, testing_features, training_target, testing_target = train_test_split(reviews_df['CleanedText'].values, reviews_df['Score'].values, test_size=0.3,shuffle=False, random_state=0)\n",
    "\n",
    "# Instantiate CountVectorizer (vectorizer)\n",
    "bow_count_vectorizer = CountVectorizer()\n",
    "\n",
    "# learn the 'vocabulary' of the training data (occurs in-place)\n",
    "bow_count_vectorizer.fit(training_features)\n",
    "\n",
    "# Examine the fitted vocabulary - 50 examples for demo.\n",
    "print(\"\\nFeatures : (sample of 50 features for demo purpose) \\n\")\n",
    "print(bow_count_vectorizer.get_feature_names()[:50])\n",
    "\n",
    "# Transform training and testing data(features) into a 'document-term matrix' or 'row-column matrix'\n",
    "training_features_matrix_unbalanced = bow_count_vectorizer.transform(training_features)\n",
    "testing_features_matrix = bow_count_vectorizer.transform(testing_features)\n",
    "\n",
    "print(\"\\nthe type of count vectorizer \",type(training_features_matrix_unbalanced))\n",
    "print(\"the shape of BOW vectorizer \",training_features_matrix_unbalanced.get_shape())\n",
    "print(\"the number of unique words \", training_features_matrix_unbalanced.get_shape()[1])\n"
   ]
  },
  {
   "cell_type": "code",
   "execution_count": 16,
   "metadata": {
    "scrolled": false
   },
   "outputs": [
    {
     "name": "stdout",
     "output_type": "stream",
     "text": [
      "\n",
      "*********** Before SMOTE Alogorithm - Imbalanced Data ***********\n",
      "Ratio of positive/negative points in original dataset is 5.573778775968557/1\n",
      "Shape of train-feature data matrix is  (245865, 74398)\n",
      "Shape of train-target nd-array is  (245865,)\n",
      "\n",
      "+---------------------------------------------------------------------------+\n",
      "|                     Hyperparamter versus Scoring Mean                     |\n",
      "+-------------+-------------------------------+-----------------------------+\n",
      "| Alpha Value | Cross Validation Scoring Mean |    Scoring Parameter Used   |\n",
      "+-------------+-------------------------------+-----------------------------+\n",
      "|    1e-05    |       2.4683289089224933      | Accuracy, Precision, Recall |\n",
      "|    0.0001   |       2.475044986201854       | Accuracy, Precision, Recall |\n",
      "|    0.001    |       2.4846380466684237      | Accuracy, Precision, Recall |\n",
      "|     0.01    |       2.4945730762929386      | Accuracy, Precision, Recall |\n",
      "|      1      |       2.508399977890567       | Accuracy, Precision, Recall |\n",
      "|      10     |       2.3066870089761906      | Accuracy, Precision, Recall |\n",
      "|     100     |       1.7936500693885606      | Accuracy, Precision, Recall |\n",
      "+-------------+-------------------------------+-----------------------------+\n"
     ]
    },
    {
     "data": {
      "image/png": "[encoded data removed]",
      "text/plain": [
       "<Figure size 432x288 with 1 Axes>"
      ]
     },
     "metadata": {
      "needs_background": "light"
     },
     "output_type": "display_data"
    },
    {
     "name": "stdout",
     "output_type": "stream",
     "text": [
      "\n",
      "Optimal value of hyperparameter alpha is  1\n",
      "\n",
      "+-----------------------------------------------------------------------------------------------+\n",
      "|                              Classification Report with alpha = 1                             |\n",
      "+----------------------+--------------------+--------------------+--------------------+---------+\n",
      "| Class Lable/Averages |     Precision      |       Recall       |      F1-Score      | Support |\n",
      "+----------------------+--------------------+--------------------+--------------------+---------+\n",
      "|       negative       | 0.7213775416742993 | 0.6622939791456441 | 0.6905743095133713 |  17838  |\n",
      "|       positive       | 0.9323108039777516 | 0.9478716841455891 | 0.9400268511122818 |  87534  |\n",
      "|      micro avg       | 0.8995273886801047 | 0.8995273886801047 | 0.8995273886801047 |  105372 |\n",
      "|      macro avg       | 0.8268441728260254 | 0.8050828316456167 | 0.8153005803128266 |  105372 |\n",
      "|     weighted avg     | 0.8966027645273379 | 0.8995273886801047 | 0.8977980385525756 |  105372 |\n",
      "+----------------------+--------------------+--------------------+--------------------+---------+\n",
      "\n",
      "\n",
      "Accuracy Score:  0.8995273886801047\n",
      "\n"
     ]
    },
    {
     "data": {
      "image/png": "[encoded data removed]",
      "text/plain": [
       "<Figure size 432x288 with 2 Axes>"
      ]
     },
     "metadata": {
      "needs_background": "light"
     },
     "output_type": "display_data"
    },
    {
     "name": "stdout",
     "output_type": "stream",
     "text": [
      "\n",
      "+---------------------------------------------------------------+\n",
      "|                    Confusion Matrix Report                    |\n",
      "+----------------------------------------+----------------------+\n",
      "|                  Term                  |        Value         |\n",
      "+----------------------------------------+----------------------+\n",
      "|           TP (True Positive)           |        82971         |\n",
      "|           TN (True Negative)           |        11814         |\n",
      "|          FP (False Positive)           |         6024         |\n",
      "|          FN (False Negative)           |         4563         |\n",
      "| TPR (True Positive Rate)= TP/(TP+FN))  |  0.9478716841455891  |\n",
      "| TNR (True Negative Rate)= TN/(TN+FP))  |  0.6622939791456441  |\n",
      "| FPR (False Positive Rate)= FP/(FP+TN)) | 0.33770602085435586  |\n",
      "| FNR (False Negative Rate)= FN/(TP+FN)) | 0.052128315854410856 |\n",
      "| ACC (Accuracy)= (TP+TN)/(TP+FP+FN+TN)) |  0.8995273886801047  |\n",
      "+----------------------------------------+----------------------+\n",
      "\n",
      "+---------------------------------------------------------------------------------------------------+\n",
      "|                            Feature Importance - 25 Most Common Features                           |\n",
      "+---------------+---------------------------------+---------------+---------------------------------+\n",
      "| Feature (-ve) | Empirical Log Probability (-ve) | Feature (+ve) | Empirical Log Probability (+ve) |\n",
      "+---------------+---------------------------------+---------------+---------------------------------+\n",
      "|      tast     |        -4.215897605326562       |      like     |        -4.434956496232374       |\n",
      "|      like     |        -4.306120699785174       |      tast     |       -4.5025659498915775       |\n",
      "|    product    |        -4.508275033036247       |      good     |        -4.63746930537015        |\n",
      "|      one      |       -4.7657888433699895       |     flavor    |        -4.649522136017234       |\n",
      "|     flavor    |        -4.786403090262846       |      love     |        -4.66852442895728        |\n",
      "|      tri      |        -4.910441759338374       |     great     |       -4.6926684327643855       |\n",
      "|     would     |        -4.918676879806803       |      use      |        -4.740699831052128       |\n",
      "|      good     |        -5.065151775434526       |      one      |       -4.7960545423353125       |\n",
      "|     coffe     |        -5.089711128845114       |    product    |        -4.881192698229134       |\n",
      "|      use      |        -5.117063647799807       |      tea      |        -4.883620239083976       |\n",
      "|      buy      |       -5.1750919523513765       |      tri      |        -4.915157105207777       |\n",
      "|      get      |        -5.181304287331654       |     coffe     |        -5.010131114383668       |\n",
      "|     order     |        -5.226672892361506       |      make     |        -5.01897307869692        |\n",
      "|      tea      |        -5.289329368583505       |      get      |        -5.087967359894382       |\n",
      "|      dont     |        -5.331309125347021       |      food     |        -5.249400986068938       |\n",
      "|      food     |        -5.34474365640428        |      time     |        -5.354510269375552       |\n",
      "|      box      |        -5.376019039040955       |      buy      |        -5.367485376737786       |\n",
      "|      even     |        -5.39611268254998        |     would     |        -5.385915306412123       |\n",
      "|     amazon    |        -5.447549484420097       |     amazon    |       -5.3931768380772365       |\n",
      "|      much     |        -5.517556606787448       |      eat      |        -5.398556830051822       |\n",
      "|      make     |        -5.524421229591068       |     realli    |        -5.410746793796408       |\n",
      "|      bag      |        -5.527871293389278       |      find     |        -5.433637847223041       |\n",
      "|     realli    |        -5.542843717931536       |      best     |        -5.446084269509049       |\n",
      "|      time     |        -5.547590979594322       |     price     |        -5.448840969881013       |\n",
      "|      eat      |        -5.554133306881543       |      also     |        -5.503644933821192       |\n",
      "+---------------+---------------------------------+---------------+---------------------------------+\n",
      "\n",
      "Wall time: 2min 21s\n"
     ]
    }
   ],
   "source": [
    "%%time\n",
    "\n",
    "print(\"\\n*********** Before SMOTE Alogorithm - Imbalanced Data ***********\")\n",
    "pos_neg = reviews_df['Score'].value_counts().tolist()\n",
    "print(\"Ratio of positive/negative points in original dataset is {0}/1\".format((pos_neg[0]/pos_neg[1])))\n",
    "print(\"Shape of train-feature data matrix is \",training_features_matrix_unbalanced.get_shape())\n",
    "print(\"Shape of train-target nd-array is \",training_target.shape)\n",
    "print()\n",
    "\n",
    "# Perform Naive Bayes on Imbalanced dataset.\n",
    "try:\n",
    "    run_naive_bayes(training_features_matrix_unbalanced\n",
    "                   ,training_target\n",
    "                   ,testing_features_matrix\n",
    "                   ,testing_target\n",
    "                   ,bow_count_vectorizer)\n",
    "except Exception:\n",
    "    traceback.print_exc()"
   ]
  },
  {
   "cell_type": "markdown",
   "metadata": {},
   "source": [
    "<br/>\n",
    "Data is higly imbalanced and biased towards positive review data points, so we need to balance the dataset with the help of BoW vectorizer and SMOTE algorithm.\n",
    "\n",
    "<br/>\n"
   ]
  },
  {
   "cell_type": "code",
   "execution_count": 17,
   "metadata": {
    "scrolled": false
   },
   "outputs": [
    {
     "name": "stdout",
     "output_type": "stream",
     "text": [
      "\n",
      "*********** After SMOTE Alogorithm - Balanced Data ***********\n",
      "Shape of train-feature data matrix is  (420546, 74398)\n",
      "Shape of train-target nd-array is  (420546,)\n",
      "\n",
      "+---------------------------------------------------------------------------+\n",
      "|                     Hyperparamter versus Scoring Mean                     |\n",
      "+-------------+-------------------------------+-----------------------------+\n",
      "| Alpha Value | Cross Validation Scoring Mean |    Scoring Parameter Used   |\n",
      "+-------------+-------------------------------+-----------------------------+\n",
      "|    1e-05    |       2.6863312774628163      | Accuracy, Precision, Recall |\n",
      "|    0.0001   |       2.6852212969331473      | Accuracy, Precision, Recall |\n",
      "|    0.001    |       2.6833849722689016      | Accuracy, Precision, Recall |\n",
      "|     0.01    |       2.6800878672726514      | Accuracy, Precision, Recall |\n",
      "|      1      |        2.66120618816346       | Accuracy, Precision, Recall |\n",
      "|      10     |       2.6349571933880602      | Accuracy, Precision, Recall |\n",
      "|     100     |         2.414552558655        | Accuracy, Precision, Recall |\n",
      "+-------------+-------------------------------+-----------------------------+\n"
     ]
    },
    {
     "data": {
      "image/png": "[encoded data removed]",
      "text/plain": [
       "<Figure size 432x288 with 1 Axes>"
      ]
     },
     "metadata": {
      "needs_background": "light"
     },
     "output_type": "display_data"
    },
    {
     "name": "stdout",
     "output_type": "stream",
     "text": [
      "\n",
      "Optimal value of hyperparameter alpha is  1e-05\n",
      "\n",
      "+-----------------------------------------------------------------------------------------------+\n",
      "|                            Classification Report with alpha = 1e-05                           |\n",
      "+----------------------+--------------------+--------------------+--------------------+---------+\n",
      "| Class Lable/Averages |     Precision      |       Recall       |      F1-Score      | Support |\n",
      "+----------------------+--------------------+--------------------+--------------------+---------+\n",
      "|       negative       | 0.5528704612365064 | 0.7579885637403296 | 0.6393814725492979 |  17838  |\n",
      "|       positive       | 0.9466483760937269 | 0.8750771128932757 | 0.9094568121104184 |  87534  |\n",
      "|      micro avg       | 0.8552556656417265 | 0.8552556656417265 | 0.8552556656417265 |  105372 |\n",
      "|      macro avg       | 0.7497594186651166 | 0.8165328383168027 | 0.7744191423298581 |  105372 |\n",
      "|     weighted avg     | 0.8799873044122261 | 0.8552556656417265 | 0.8637368494344584 |  105372 |\n",
      "+----------------------+--------------------+--------------------+--------------------+---------+\n",
      "\n",
      "\n",
      "Accuracy Score:  0.8552556656417265\n",
      "\n"
     ]
    },
    {
     "data": {
      "image/png": "[encoded data removed]",
      "text/plain": [
       "<Figure size 432x288 with 2 Axes>"
      ]
     },
     "metadata": {
      "needs_background": "light"
     },
     "output_type": "display_data"
    },
    {
     "name": "stdout",
     "output_type": "stream",
     "text": [
      "\n",
      "+--------------------------------------------------------------+\n",
      "|                   Confusion Matrix Report                    |\n",
      "+----------------------------------------+---------------------+\n",
      "|                  Term                  |        Value        |\n",
      "+----------------------------------------+---------------------+\n",
      "|           TP (True Positive)           |        76599        |\n",
      "|           TN (True Negative)           |        13521        |\n",
      "|          FP (False Positive)           |         4317        |\n",
      "|          FN (False Negative)           |        10935        |\n",
      "| TPR (True Positive Rate)= TP/(TP+FN))  |  0.8750771128932757 |\n",
      "| TNR (True Negative Rate)= TN/(TN+FP))  |  0.7579885637403296 |\n",
      "| FPR (False Positive Rate)= FP/(FP+TN)) | 0.24201143625967036 |\n",
      "| FNR (False Negative Rate)= FN/(TP+FN)) | 0.12492288710672425 |\n",
      "| ACC (Accuracy)= (TP+TN)/(TP+FP+FN+TN)) |  0.8552556656417265 |\n",
      "+----------------------------------------+---------------------+\n",
      "\n",
      "+---------------------------------------------------------------------------------------------------+\n",
      "|                            Feature Importance - 25 Most Common Features                           |\n",
      "+---------------+---------------------------------+---------------+---------------------------------+\n",
      "| Feature (-ve) | Empirical Log Probability (-ve) | Feature (+ve) | Empirical Log Probability (+ve) |\n",
      "+---------------+---------------------------------+---------------+---------------------------------+\n",
      "|      tast     |       -3.9745035873442465       |      like     |        -4.425212692792048       |\n",
      "|      like     |        -4.065835643805926       |      tast     |        -4.492822916280552       |\n",
      "|    product    |        -4.317765604370274       |      good     |        -4.627727972475741       |\n",
      "|     flavor    |        -4.599869262322837       |     flavor    |        -4.639780966534525       |\n",
      "|      one      |       -4.6686069351836075       |      love     |        -4.658783521140778       |\n",
      "|     would     |        -4.756264533554779       |     great     |        -4.682927864670267       |\n",
      "|      tri      |        -4.825501830274385       |      use      |       -4.7309599636775275       |\n",
      "|     coffe     |        -4.833834517201861       |      one      |        -4.786315525388849       |\n",
      "|      good     |        -4.885403143137525       |    product    |        -4.871455084713816       |\n",
      "|      buy      |        -4.95708360299769        |      tea      |       -4.8738826673629845       |\n",
      "|      use      |        -5.03480561725304        |      tri      |        -4.905420085770979       |\n",
      "|      tea      |        -5.037874627617732       |     coffe     |        -5.000395867364482       |\n",
      "|     order     |        -5.056451980191028       |      make     |        -5.009238005414616       |\n",
      "|      get      |       -5.1232649325235595       |      get      |        -5.078233696366119       |\n",
      "|      dont     |        -5.211157822806156       |      food     |        -5.239671027193372       |\n",
      "|      box      |        -5.239075896203417       |      time     |        -5.344783064750567       |\n",
      "|      food     |        -5.247047639832395       |      buy      |        -5.357758532624079       |\n",
      "|      even     |        -5.360361847584802       |     would     |        -5.376188982479293       |\n",
      "|     amazon    |       -5.3979551531603445       |     amazon    |        -5.383450721746982       |\n",
      "|      much     |       -5.4026764343577565       |      eat      |        -5.388830868507274       |\n",
      "|      bag      |        -5.421172358290292       |     realli    |        -5.401021186061104       |\n",
      "|      eat      |        -5.424204994908672       |      find     |        -5.423912915659928       |\n",
      "|     realli    |       -5.4628150692477835       |      best     |        -5.436359712145299       |\n",
      "|      time     |        -5.494366633951415       |     price     |        -5.439116496028866       |\n",
      "|      make     |        -5.510199594323858       |      also     |        -5.493922168893924       |\n",
      "+---------------+---------------------------------+---------------+---------------------------------+\n",
      "\n"
     ]
    }
   ],
   "source": [
    "# Apply SMOTE algorithm on training data points to balance the dataset.\n",
    "training_features_matrix_balanced, training_target = SMOTE(ratio='minority').fit_sample(training_features_matrix_unbalanced, training_target)\n",
    "\n",
    "print(\"\\n*********** After SMOTE Alogorithm - Balanced Data ***********\")\n",
    "print(\"Shape of train-feature data matrix is \",training_features_matrix_balanced.get_shape())\n",
    "print(\"Shape of train-target nd-array is \",training_target.shape)\n",
    "print()\n",
    "\n",
    "# Perform Naive Bayes on Balanced dataset.\n",
    "try:\n",
    "    run_naive_bayes(training_features_matrix_balanced\n",
    "                   ,training_target\n",
    "                   ,testing_features_matrix\n",
    "                   ,testing_target\n",
    "                   ,bow_count_vectorizer)\n",
    "except Exception:\n",
    "    traceback.print_exc()"
   ]
  },
  {
   "cell_type": "markdown",
   "metadata": {},
   "source": [
    "#### (2.2) Term Frequency - Inverse Document Frequency (TF-IDF) :"
   ]
  },
  {
   "cell_type": "code",
   "execution_count": 18,
   "metadata": {},
   "outputs": [
    {
     "name": "stdout",
     "output_type": "stream",
     "text": [
      "\n",
      "Features : (sample of 50 features for demo purpose) \n",
      "\n",
      "['aa', 'aa state', 'aaa', 'aaa aaa', 'aaa condit', 'aaa dont', 'aaa magazin', 'aaa perfect', 'aaa plus', 'aaa spelt', 'aaa tue', 'aaaa', 'aaaaaaaaaaaaaaaaaaaaaaaaaaaaaaaaaaaaaaaaaaaa', 'aaaaaaaaaaaaaaaaaaaaaaaaaaaaaaaaaaaaaaaaaaaa serious', 'aaaaaaaaaaaaaaaaaaaargh', 'aaaaaaaaaaaaaaaaaaaargh wait', 'aaaaaaaaagghh', 'aaaaaaahhhhhh', 'aaaaaaahhhhhh raspberri', 'aaaaaaarrrrrggghhh', 'aaaaaaarrrrrggghhh back', 'aaaaaahhh', 'aaaaaahhh help', 'aaaaaahhhhhyaaaaaa', 'aaaaaahhhhhyaaaaaa fire', 'aaaaaahhhhten', 'aaaaaahhhhten fifteen', 'aaaaaand', 'aaaaaand kid', 'aaaaaawwwwwwwwww', 'aaaaaawwwwwwwwww depart', 'aaaaah', 'aaaaah awak', 'aaaaah satisfi', 'aaaaahhhhhhhhhhhhhhhh', 'aaaaahhhhhhhhhhhhhhhh angel', 'aaaaawsom', 'aaaaawsom chump', 'aaaah', 'aaaah favorit', 'aaaah snob', 'aaaahhhhhh', 'aaaahhhhhh must', 'aaaand', 'aaaand theyr', 'aaaarrrrghh', 'aaaarrrrghh plus', 'aaagh', 'aaagh thrill', 'aaah']\n",
      "\n",
      "the type of count vectorizer  <class 'scipy.sparse.csr.csr_matrix'>\n",
      "the shape of TF-IDF vectorizer  (245865, 2218080)\n",
      "the number of unique words  2218080\n",
      "Wall time: 56.2 s\n"
     ]
    }
   ],
   "source": [
    "%%time\n",
    "\n",
    "# Split data into 70% training and 30% testing.\n",
    "training_features, testing_features, training_target, testing_target = train_test_split(reviews_df['CleanedText'].values, reviews_df['Score'].values, test_size=0.3,shuffle=False, random_state=0)\n",
    "\n",
    "# Instantiate CountVectorizer (vectorizer)\n",
    "tfidf_vectorizer = TfidfVectorizer(ngram_range=(1,2))\n",
    "\n",
    "# learn the 'vocabulary' of the training data (occurs in-place)\n",
    "tfidf_vectorizer.fit(training_features)\n",
    "\n",
    "# Examine the fitted vocabulary - 50 examples for demo.\n",
    "print(\"\\nFeatures : (sample of 50 features for demo purpose) \\n\")\n",
    "print(tfidf_vectorizer.get_feature_names()[:50])\n",
    "\n",
    "# Transform training and testing data(features) into a 'document-term matrix' or 'row-column matrix'\n",
    "training_features_matrix_unbalanced = tfidf_vectorizer.transform(training_features)\n",
    "testing_features_matrix = tfidf_vectorizer.transform(testing_features)\n",
    "\n",
    "print(\"\\nthe type of count vectorizer \",type(training_features_matrix_unbalanced))\n",
    "print(\"the shape of TF-IDF vectorizer \",training_features_matrix_unbalanced.get_shape())\n",
    "print(\"the number of unique words \", training_features_matrix_unbalanced.get_shape()[1])\n"
   ]
  },
  {
   "cell_type": "markdown",
   "metadata": {},
   "source": [
    "<br/>\n",
    "Data is higly imbalanced and biased towards positive review data points, so we need to balance the dataset with the help of TF-IDF vectorizer and SMOTE algorithm.\n",
    "\n",
    "<br/>\n"
   ]
  },
  {
   "cell_type": "code",
   "execution_count": 19,
   "metadata": {
    "scrolled": false
   },
   "outputs": [
    {
     "name": "stdout",
     "output_type": "stream",
     "text": [
      "\n",
      "*********** Before SMOTE Alogorithm - Imbalanced Data ***********\n",
      "Ratio of positive/negative points in original dataset is 5.573778775968557/1\n",
      "Shape of train-feature data matrix is  (245865, 2218080)\n",
      "Shape of train-target nd-array is  (245865,)\n",
      "\n",
      "+---------------------------------------------------------------------------+\n",
      "|                     Hyperparamter versus Scoring Mean                     |\n",
      "+-------------+-------------------------------+-----------------------------+\n",
      "| Alpha Value | Cross Validation Scoring Mean |    Scoring Parameter Used   |\n",
      "+-------------+-------------------------------+-----------------------------+\n",
      "|    1e-05    |       2.359846584343212       | Accuracy, Precision, Recall |\n",
      "|    0.0001   |        2.40487578983227       | Accuracy, Precision, Recall |\n",
      "|    0.001    |       2.461430139104839       | Accuracy, Precision, Recall |\n",
      "|     0.01    |       2.482152763143755       | Accuracy, Precision, Recall |\n",
      "|      1      |       2.0856404133061277      | Accuracy, Precision, Recall |\n",
      "|      10     |       1.7828564461213046      | Accuracy, Precision, Recall |\n",
      "|     100     |       1.7828564461213046      | Accuracy, Precision, Recall |\n",
      "+-------------+-------------------------------+-----------------------------+\n"
     ]
    },
    {
     "data": {
      "image/png": "[encoded data removed]",
      "text/plain": [
       "<Figure size 432x288 with 1 Axes>"
      ]
     },
     "metadata": {
      "needs_background": "light"
     },
     "output_type": "display_data"
    },
    {
     "name": "stdout",
     "output_type": "stream",
     "text": [
      "\n",
      "Optimal value of hyperparameter alpha is  0.01\n",
      "\n",
      "+-----------------------------------------------------------------------------------------------+\n",
      "|                            Classification Report with alpha = 0.01                            |\n",
      "+----------------------+--------------------+--------------------+--------------------+---------+\n",
      "| Class Lable/Averages |     Precision      |       Recall       |      F1-Score      | Support |\n",
      "+----------------------+--------------------+--------------------+--------------------+---------+\n",
      "|       negative       | 0.894528911768227  | 0.4188810404753896 | 0.5705776793555037 |  17838  |\n",
      "|       positive       | 0.8931549490306022 | 0.9899353394109718 | 0.9390581567354637 |  87534  |\n",
      "|      micro avg       | 0.893263865163421  | 0.893263865163421  | 0.893263865163421  |  105372 |\n",
      "|      macro avg       | 0.8938419303994146 | 0.7044081899431807 | 0.7548179180454837 |  105372 |\n",
      "|     weighted avg     | 0.8933875416293359 | 0.893263865163421  | 0.8766795860003184 |  105372 |\n",
      "+----------------------+--------------------+--------------------+--------------------+---------+\n",
      "\n",
      "\n",
      "Accuracy Score:  0.893263865163421\n",
      "\n"
     ]
    },
    {
     "data": {
      "image/png": "[encoded data removed]",
      "text/plain": [
       "<Figure size 432x288 with 2 Axes>"
      ]
     },
     "metadata": {
      "needs_background": "light"
     },
     "output_type": "display_data"
    },
    {
     "name": "stdout",
     "output_type": "stream",
     "text": [
      "\n",
      "+---------------------------------------------------------------+\n",
      "|                    Confusion Matrix Report                    |\n",
      "+----------------------------------------+----------------------+\n",
      "|                  Term                  |        Value         |\n",
      "+----------------------------------------+----------------------+\n",
      "|           TP (True Positive)           |        86653         |\n",
      "|           TN (True Negative)           |         7472         |\n",
      "|          FP (False Positive)           |        10366         |\n",
      "|          FN (False Negative)           |         881          |\n",
      "| TPR (True Positive Rate)= TP/(TP+FN))  |  0.9899353394109718  |\n",
      "| TNR (True Negative Rate)= TN/(TN+FP))  |  0.4188810404753896  |\n",
      "| FPR (False Positive Rate)= FP/(FP+TN)) |  0.5811189595246103  |\n",
      "| FNR (False Negative Rate)= FN/(TP+FN)) | 0.010064660589028263 |\n",
      "| ACC (Accuracy)= (TP+TN)/(TP+FP+FN+TN)) |  0.893263865163421   |\n",
      "+----------------------------------------+----------------------+\n",
      "\n",
      "+---------------------------------------------------------------------------------------------------+\n",
      "|                            Feature Importance - 25 Most Common Features                           |\n",
      "+---------------+---------------------------------+---------------+---------------------------------+\n",
      "| Feature (-ve) | Empirical Log Probability (-ve) | Feature (+ve) | Empirical Log Probability (+ve) |\n",
      "+---------------+---------------------------------+---------------+---------------------------------+\n",
      "|      tast     |        -6.018218934866409       |     great     |        -6.212352555209659       |\n",
      "|      like     |        -6.163994909932839       |      love     |        -6.219764877901318       |\n",
      "|    product    |        -6.232373635971766       |      tast     |        -6.275373412324644       |\n",
      "|     would     |        -6.518403007868737       |      like     |        -6.28344509518725        |\n",
      "|     flavor    |        -6.529717388773404       |      good     |        -6.284193014358569       |\n",
      "|     coffe     |        -6.542661697282145       |      tea      |       -6.2862128445389525       |\n",
      "|      one      |       -6.5610414722451145       |     flavor    |        -6.343043436004462       |\n",
      "|      tri      |        -6.66616400641053        |     coffe     |       -6.3716404793565955       |\n",
      "|      buy      |       -6.6857888949904325       |      use      |        -6.453536221024811       |\n",
      "|     order     |        -6.686839834157641       |    product    |        -6.460266580103129       |\n",
      "|      box      |       -6.7757128744392165       |      one      |        -6.544060849802214       |\n",
      "|      tea      |        -6.781606314384314       |      tri      |        -6.615256092047183       |\n",
      "|      good     |       -6.8407524703274225       |      make     |        -6.666503173654506       |\n",
      "|   disappoint  |        -6.842149311538374       |      get      |        -6.736784892709489       |\n",
      "|      dont     |        -6.864568082075305       |      best     |        -6.777435848486504       |\n",
      "|      get      |        -6.876401302781016       |     price     |        -6.786793859237479       |\n",
      "|      use      |       -6.9273519606022536       |      buy      |        -6.812751617879803       |\n",
      "|      even     |       -6.9509713128051684       |     amazon    |        -6.831381690650967       |\n",
      "|      bag      |        -6.997890298632167       |      food     |        -6.834374779059339       |\n",
      "|      bad      |       -7.0029099259194405       |      find     |        -6.837280986399286       |\n",
      "|      food     |        -7.016934486015065       |      time     |       -6.8801433089271065       |\n",
      "|     amazon    |        -7.04366640229698        |     order     |        -6.88837272196862        |\n",
      "|      much     |        -7.070742791769516       |     realli    |        -6.888533836444039       |\n",
      "|    purchas    |        -7.086776162104666       |      eat      |       -6.9109564697662815       |\n",
      "|     packag    |       -7.0873146581605555       |     store     |        -6.936169811637611       |\n",
      "+---------------+---------------------------------+---------------+---------------------------------+\n",
      "\n",
      "Wall time: 3min 10s\n"
     ]
    }
   ],
   "source": [
    "%%time\n",
    "\n",
    "print(\"\\n*********** Before SMOTE Alogorithm - Imbalanced Data ***********\")\n",
    "pos_neg = reviews_df['Score'].value_counts().tolist()\n",
    "print(\"Ratio of positive/negative points in original dataset is {0}/1\".format((pos_neg[0]/pos_neg[1])))\n",
    "print(\"Shape of train-feature data matrix is \",training_features_matrix_unbalanced.get_shape())\n",
    "print(\"Shape of train-target nd-array is \",training_target.shape)\n",
    "print()\n",
    "\n",
    "# Perform Naive Bayes on Imbalanced dataset.\n",
    "try:\n",
    "    run_naive_bayes(training_features_matrix_unbalanced\n",
    "                   ,training_target\n",
    "                   ,testing_features_matrix\n",
    "                   ,testing_target\n",
    "                   ,tfidf_vectorizer)\n",
    "except Exception:\n",
    "    traceback.print_exc()"
   ]
  },
  {
   "cell_type": "code",
   "execution_count": 20,
   "metadata": {
    "scrolled": false
   },
   "outputs": [
    {
     "name": "stdout",
     "output_type": "stream",
     "text": [
      "\n",
      "*********** After SMOTE Alogorithm - Balanced Data ***********\n",
      "Shape of train-feature data matrix is  (420546, 2218080)\n",
      "Shape of train-target nd-array is  (420546,)\n",
      "\n",
      "+---------------------------------------------------------------------------+\n",
      "|                     Hyperparamter versus Scoring Mean                     |\n",
      "+-------------+-------------------------------+-----------------------------+\n",
      "| Alpha Value | Cross Validation Scoring Mean |    Scoring Parameter Used   |\n",
      "+-------------+-------------------------------+-----------------------------+\n",
      "|    1e-05    |       2.9699776751265654      | Accuracy, Precision, Recall |\n",
      "|    0.0001   |       2.9686934501050466      | Accuracy, Precision, Recall |\n",
      "|    0.001    |       2.9657387141458296      | Accuracy, Precision, Recall |\n",
      "|     0.01    |       2.9565676261279075      | Accuracy, Precision, Recall |\n",
      "|      1      |       2.8670695882875363      | Accuracy, Precision, Recall |\n",
      "|      10     |       2.784113030515457       | Accuracy, Precision, Recall |\n",
      "|     100     |       2.7017823928923486      | Accuracy, Precision, Recall |\n",
      "+-------------+-------------------------------+-----------------------------+\n"
     ]
    },
    {
     "data": {
      "image/png": "[encoded data removed]",
      "text/plain": [
       "<Figure size 432x288 with 1 Axes>"
      ]
     },
     "metadata": {
      "needs_background": "light"
     },
     "output_type": "display_data"
    },
    {
     "name": "stdout",
     "output_type": "stream",
     "text": [
      "\n",
      "Optimal value of hyperparameter alpha is  1e-05\n",
      "\n",
      "+-------------------------------------------------------------------------------------------------+\n",
      "|                             Classification Report with alpha = 1e-05                            |\n",
      "+----------------------+--------------------+---------------------+---------------------+---------+\n",
      "| Class Lable/Averages |     Precision      |        Recall       |       F1-Score      | Support |\n",
      "+----------------------+--------------------+---------------------+---------------------+---------+\n",
      "|       negative       | 0.7758705247670427 | 0.26606121762529433 | 0.39624295554164063 |  17838  |\n",
      "|       positive       | 0.8680973250717848 |  0.9843375145657687 |  0.922570386907152  |  87534  |\n",
      "|      micro avg       | 0.8627434233003075 |  0.8627434233003075 |  0.8627434233003075 |  105372 |\n",
      "|      macro avg       | 0.8219839249194137 |  0.6251993660955315 |  0.6594066712243963 |  105372 |\n",
      "|     weighted avg     | 0.8524846227994924 |  0.8627434233003075 |  0.8334705432988121 |  105372 |\n",
      "+----------------------+--------------------+---------------------+---------------------+---------+\n",
      "\n",
      "\n",
      "Accuracy Score:  0.8627434233003075\n",
      "\n"
     ]
    },
    {
     "data": {
      "image/png": "[encoded data removed]",
      "text/plain": [
       "<Figure size 432x288 with 2 Axes>"
      ]
     },
     "metadata": {
      "needs_background": "light"
     },
     "output_type": "display_data"
    },
    {
     "name": "stdout",
     "output_type": "stream",
     "text": [
      "\n",
      "+--------------------------------------------------------------+\n",
      "|                   Confusion Matrix Report                    |\n",
      "+----------------------------------------+---------------------+\n",
      "|                  Term                  |        Value        |\n",
      "+----------------------------------------+---------------------+\n",
      "|           TP (True Positive)           |        86163        |\n",
      "|           TN (True Negative)           |         4746        |\n",
      "|          FP (False Positive)           |        13092        |\n",
      "|          FN (False Negative)           |         1371        |\n",
      "| TPR (True Positive Rate)= TP/(TP+FN))  |  0.9843375145657687 |\n",
      "| TNR (True Negative Rate)= TN/(TN+FP))  | 0.26606121762529433 |\n",
      "| FPR (False Positive Rate)= FP/(FP+TN)) |  0.7339387823747057 |\n",
      "| FNR (False Negative Rate)= FN/(TP+FN)) | 0.01566248543423127 |\n",
      "| ACC (Accuracy)= (TP+TN)/(TP+FP+FN+TN)) |  0.8627434233003075 |\n",
      "+----------------------------------------+---------------------+\n",
      "\n",
      "+---------------------------------------------------------------------------------------------------+\n",
      "|                            Feature Importance - 25 Most Common Features                           |\n",
      "+---------------+---------------------------------+---------------+---------------------------------+\n",
      "| Feature (-ve) | Empirical Log Probability (-ve) | Feature (+ve) | Empirical Log Probability (+ve) |\n",
      "+---------------+---------------------------------+---------------+---------------------------------+\n",
      "|      tast     |         -5.8341851333986        |     great     |        -6.19713227401869        |\n",
      "|      like     |        -5.983410784192797       |      love     |        -6.204544621991546       |\n",
      "|    product    |        -6.109344551484163       |      tast     |        -6.26015335217515        |\n",
      "|     coffe     |        -6.271207729127223       |      like     |        -6.268225064368323       |\n",
      "|     flavor    |        -6.376828237930585       |      good     |        -6.268972986269406       |\n",
      "|     would     |        -6.379930655162593       |      tea      |        -6.270992823831998       |\n",
      "|      one      |        -6.47102299559701        |     flavor    |        -6.327823629237139       |\n",
      "|      tea      |        -6.47725035451588        |     coffe     |        -6.356420784929941       |\n",
      "|      buy      |        -6.519688810344063       |      use      |        -6.438316866674993       |\n",
      "|     order     |        -6.550936838467324       |    product    |       -6.4450472549597375       |\n",
      "|      tri      |        -6.573457172730293       |      one      |        -6.528841905231846       |\n",
      "|      box      |        -6.643515997436175       |      tri      |        -6.600037496854386       |\n",
      "|      dont     |        -6.698871950099893       |      make     |        -6.651284845797522       |\n",
      "|   disappoint  |        -6.701302412026515       |      get      |        -6.721566954491146       |\n",
      "|      good     |        -6.729961167992344       |      best     |        -6.762218148456112       |\n",
      "|      get      |        -6.797811017945086       |     price     |        -6.771576215423564       |\n",
      "|      food     |        -6.826045068220848       |      buy      |        -6.797534132784059       |\n",
      "|      use      |        -6.836913351788273       |     amazon    |        -6.816164322034934       |\n",
      "|   tast like   |        -6.843603424100489       |      food     |        -6.819157429359973       |\n",
      "|      bag      |        -6.860423351412319       |      find     |        -6.822063655121744       |\n",
      "|      even     |        -6.871967819838478       |      time     |        -6.864926255655094       |\n",
      "|      bad      |        -6.880248229646972       |     order     |        -6.873155723449754       |\n",
      "|     chocol    |        -6.919175267960103       |     realli    |        -6.873316839001627       |\n",
      "|     money     |        -6.943725950545277       |      eat      |        -6.895739623840648       |\n",
      "|      much     |        -6.957084819461637       |     store     |        -6.920953140194135       |\n",
      "+---------------+---------------------------------+---------------+---------------------------------+\n",
      "\n"
     ]
    }
   ],
   "source": [
    "# Apply SMOTE algorithm on training data points to balance the dataset.\n",
    "training_features_matrix_balanced, training_target = SMOTE(ratio='minority').fit_sample(training_features_matrix_unbalanced, training_target)\n",
    "\n",
    "print(\"\\n*********** After SMOTE Alogorithm - Balanced Data ***********\")\n",
    "print(\"Shape of train-feature data matrix is \",training_features_matrix_balanced.get_shape())\n",
    "print(\"Shape of train-target nd-array is \",training_target.shape)\n",
    "print()\n",
    "\n",
    "# Perform Naive Bayes on Balanced dataset.\n",
    "try:\n",
    "    run_naive_bayes(training_features_matrix_balanced\n",
    "                   ,training_target\n",
    "                   ,testing_features_matrix\n",
    "                   ,testing_target\n",
    "                   ,tfidf_vectorizer)\n",
    "except Exception:\n",
    "    traceback.print_exc()"
   ]
  },
  {
   "cell_type": "markdown",
   "metadata": {},
   "source": [
    "---\n",
    "### Conclusion :\n",
    "---"
   ]
  },
  {
   "cell_type": "code",
   "execution_count": 21,
   "metadata": {},
   "outputs": [
    {
     "name": "stdout",
     "output_type": "stream",
     "text": [
      "+-------------------------------------------------------------------------------------------------------+\n",
      "|                                            ***Conclusion***                                           |\n",
      "+------------+-------------------------------------+----------------+-------------+---------------------+\n",
      "|  Dataset   |                Model                | Hyperparameter | Train Error |      Test Error     |\n",
      "+------------+-------------------------------------+----------------+-------------+---------------------+\n",
      "| Imbalanced |        BoW --> Multinomial NB       |       1        |     8.0%    |        10.0%        |\n",
      "|  Balanced  |   BoW --> SMOTE --> Multinomial NB  |     1e-05      |     9.0%    | 14.000000000000002% |\n",
      "| Imbalanced |      TF-IDF --> Multinomial NB      |      0.01      |     0.0%    |        11.0%        |\n",
      "|  Balanced  | TF-IDF --> SMOTE --> Multinomial NB |     1e-05      |     0.0%    | 14.000000000000002% |\n",
      "+------------+-------------------------------------+----------------+-------------+---------------------+\n"
     ]
    }
   ],
   "source": [
    "conclude()"
   ]
  },
  {
   "cell_type": "markdown",
   "metadata": {},
   "source": [
    "---\n",
    "### Observations :\n",
    "---"
   ]
  },
  {
   "cell_type": "markdown",
   "metadata": {},
   "source": [
    "> 1. Here, Naive Bayes classifier is applied on complete dataset(~364K).\n",
    "> 2. Given dataset is imbalanced in nature (postive reviews:negative reviews = 5.57/1).\n",
    "> 3. 10-fold cross validation technique is applied to calculate optimal hyperparameter.\n",
    "> 4. Initially we performed naive bayes classifier on imbalanced dataset with hyperparameter value of alpha is 1.\n",
    "> 5. SMOTE algorithm is used to balance out the positive and negative reviews.\n",
    "> 6. Balanced dataset's confusion matrix produces better result than Imbalanced dataset.\n",
    "> 7. Techniques like Random Under/Over-Sampling, Variation of SMOTE algorithms can be used to balance out the dataset, which may result in better accuracy and confusion matrix values.\n",
    "\n",
    "\n"
   ]
  }
 ],
 "metadata": {
  "kernelspec": {
   "display_name": "Python 3",
   "language": "python",
   "name": "python3"
  },
  "language_info": {
   "codemirror_mode": {
    "name": "ipython",
    "version": 3
   },
   "file_extension": ".py",
   "mimetype": "text/x-python",
   "name": "python",
   "nbconvert_exporter": "python",
   "pygments_lexer": "ipython3",
   "version": "3.6.6"
  }
 },
 "nbformat": 4,
 "nbformat_minor": 2
}
